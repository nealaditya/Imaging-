{
 "cells": [
  {
   "cell_type": "code",
   "execution_count": 1,
   "metadata": {},
   "outputs": [],
   "source": [
    "import cv2 \n",
    "import numpy as np \n",
    "from scipy import optimize\n",
    "import matplotlib.pyplot as plt\n",
    "import math\n",
    "from IPython.display import Image\n"
   ]
  },
  {
   "cell_type": "markdown",
   "metadata": {},
   "source": [
    "Import the necessary packages required to run this script"
   ]
  },
  {
   "cell_type": "code",
   "execution_count": 2,
   "metadata": {},
   "outputs": [],
   "source": [
    "cap = cv2.VideoCapture('Perfusion.mov')\n",
    "refPt = []\n",
    "intensity_arr = []\n",
    "time = []"
   ]
  },
  {
   "cell_type": "markdown",
   "metadata": {},
   "source": [
    "Creates variables which are used in the execution of the script. \n",
    "cap: VideoCapture object which contains the information stored in the movie. \n",
    "refPt: List of points that define the region of interest\n",
    "intensity_arr: List that contains the resulting intensity of each frame as defined by the region of interest"
   ]
  },
  {
   "cell_type": "code",
   "execution_count": 3,
   "metadata": {},
   "outputs": [],
   "source": [
    "def get_intensity(image):\n",
    "    sum = 0\n",
    "    for x in image:\n",
    "        sum += x\n",
    "    return sum"
   ]
  },
  {
   "cell_type": "markdown",
   "metadata": {},
   "source": [
    "A function to get the intensity from a region or image. \n"
   ]
  },
  {
   "cell_type": "markdown",
   "metadata": {},
   "source": [
    "![title](ImageJIntensityVerification.png)\n",
    "![title](ProgramIntesityVerification.png) \n",
    "\n",
    "This validates the function which gets the intensity from a particular region using ImageJ. Using both of these programs, the intensity returned over the same area is the same. In ImageJ, the area multiplied by the average intensity gives the same result as get_intensity function above. "
   ]
  },
  {
   "cell_type": "code",
   "execution_count": 4,
   "metadata": {},
   "outputs": [],
   "source": [
    "def get_total_possible(img):\n",
    "    sum = 0\n",
    "    for x in img:\n",
    "        sum += 255\n",
    "    print(sum)\n",
    "    return sum"
   ]
  },
  {
   "cell_type": "markdown",
   "metadata": {},
   "source": [
    "A function to get the total possible intensity of a region or image, assuming that the total possible is the amount of white signal coming back, i.e. a value of 255 for each pixel. "
   ]
  },
  {
   "cell_type": "code",
   "execution_count": 5,
   "metadata": {},
   "outputs": [],
   "source": [
    "def get_area(img): \n",
    "    area = 0 \n",
    "    for x in img: \n",
    "        area += 1\n",
    "    return area"
   ]
  },
  {
   "cell_type": "code",
   "execution_count": 6,
   "metadata": {},
   "outputs": [],
   "source": [
    "def define_roi(cap):\n",
    "\n",
    "    def create_vert(event, x, y, flags, param):\n",
    "        if event == cv2.EVENT_LBUTTONDOWN:\n",
    "            cv2.circle(frame, (x, y), 1, (0, 255, 0), 1)\n",
    "            refPt.append((x, y))\n",
    "        if event == cv2.EVENT_LBUTTONUP:\n",
    "            if len(refPt) > 1:\n",
    "                cv2.line(frame, refPt[len(refPt) - 2], refPt[len(refPt) - 1], (0, 255, 0), 1)\n",
    "\n",
    "    cap.set(1, 1)\n",
    "    ret, frame = cap.read()\n",
    "    cv2.imshow('image', frame)\n",
    "    cv2.namedWindow('image')\n",
    "    cv2.setMouseCallback('image', create_vert)\n",
    "\n",
    "    while 1:\n",
    "        cv2.imshow('image', frame)\n",
    "        if cv2.waitKey(20) & 0xFF == 27:\n",
    "            break\n",
    "    frame = cv2.cvtColor(frame, cv2.COLOR_BGR2GRAY)\n",
    "    vertices = np.asarray(refPt)\n",
    "    mask = np.zeros((frame.shape[0], frame.shape[1]))\n",
    "    cv2.fillConvexPoly(mask, vertices, 1)\n",
    "    mask = mask.astype(np.bool)\n",
    "    cap.release\n",
    "    cv2.destroyAllWindows()\n",
    "    return mask"
   ]
  },
  {
   "cell_type": "markdown",
   "metadata": {},
   "source": [
    "A function for user input to define the region of interest. \n",
    "\n",
    "Create_vert is a helper function used to get mouse-input in OpenCV, where each click stores the vertex of the polygon approximation used to define the ROI, and draws lines between the points to make viewing easier. \n",
    "\n",
    "define_roi opens up the first frame for the user, and creates a masked image which contains information about which pixels the script should look at for each frame. The function then returns the mask. \n",
    "\n",
    "When using the function, the ROI defined is inclusive of the points that constitute the border of the ROI, making it appear as if the area is larger than a similar ROI defined in a program such as ImageJ. This does not affect the actual data collection which yields the same values for a similarly defined area. \n",
    "\n"
   ]
  },
  {
   "cell_type": "code",
   "execution_count": 7,
   "metadata": {},
   "outputs": [],
   "source": [
    "if (cap.isOpened() == False):\n",
    "    print(\"Error opening video stream or file\")"
   ]
  },
  {
   "cell_type": "markdown",
   "metadata": {},
   "source": [
    "Checks to see if the video file has been opened successfully. If not, prints the error to the console. "
   ]
  },
  {
   "cell_type": "code",
   "execution_count": 8,
   "metadata": {},
   "outputs": [],
   "source": [
    "mask = define_roi(cap)"
   ]
  },
  {
   "cell_type": "markdown",
   "metadata": {},
   "source": [
    "Calls the define_roi function and saves the resulting masked image to a variable called mask. Mask will then be applied to each frame in the movie. "
   ]
  },
  {
   "cell_type": "code",
   "execution_count": 9,
   "metadata": {},
   "outputs": [],
   "source": [
    "while (cap.isOpened()):\n",
    "    # Capture frame-by-frame\n",
    "    ret, frame = cap.read()\n",
    "    if ret == True:\n",
    "        frame = cv2.cvtColor(frame, cv2.COLOR_BGR2GRAY)\n",
    "        cv2.imshow('Frame', frame)\n",
    "        cv2.namedWindow('Frame')\n",
    "        intensity = get_intensity(frame[mask])\n",
    "        intensity_arr.append(intensity)\n",
    "        time.append(cap.get(5))\n",
    "\n",
    "        # Press Q on keyboard to  exit\n",
    "        if cv2.waitKey(25) & 0xFF == ord('q'):\n",
    "            break\n",
    "\n",
    "    # Break the loop\n",
    "    else:\n",
    "        break"
   ]
  },
  {
   "cell_type": "markdown",
   "metadata": {},
   "source": [
    "Loops over the frames and finds the intensity coming from the region in each frame. Stores the intensities in a list. "
   ]
  },
  {
   "cell_type": "code",
   "execution_count": 10,
   "metadata": {},
   "outputs": [],
   "source": [
    "# When everything done, release the video capture object\n",
    "cap.release()\n",
    "\n",
    "# Closes all the frames\n",
    "cv2.destroyAllWindows()"
   ]
  },
  {
   "cell_type": "code",
   "execution_count": 11,
   "metadata": {
    "scrolled": true
   },
   "outputs": [
    {
     "name": "stdout",
     "output_type": "stream",
     "text": [
      "[ 5.05700846 -0.62698296] [[ 0.00414133 -0.02070664]\n",
      " [-0.02070664  0.14092017]]\n"
     ]
    },
    {
     "data": {
      "image/png": "[encoded data removed]",
      "text/plain": [
       "<Figure size 432x288 with 1 Axes>"
      ]
     },
     "metadata": {},
     "output_type": "display_data"
    }
   ],
   "source": [
    "x = np.linspace(0, 10, num=25)\n",
    "y = 5 * x + np.random.normal(size=25)\n",
    "\n",
    "def lin_func(x, m, b): \n",
    "    return m*x + b \n",
    "# Fit with polyfit\n",
    "params, params_covariance = optimize.curve_fit(lin_func, x, y, p0=[5, 10])\n",
    "print(params, params_covariance)\n",
    "plt.plot(x, y, '.')\n",
    "plt.plot(x, lin_func(x, params[0], params[1]), '-')\n",
    "plt.show()"
   ]
  },
  {
   "cell_type": "code",
   "execution_count": 12,
   "metadata": {
    "scrolled": true
   },
   "outputs": [
    {
     "data": {
      "text/plain": [
       "[<matplotlib.lines.Line2D at 0x11d19a198>]"
      ]
     },
     "execution_count": 12,
     "metadata": {},
     "output_type": "execute_result"
    },
    {
     "data": {
      "image/png": "[encoded data removed]",
      "text/plain": [
       "<Figure size 432x288 with 1 Axes>"
      ]
     },
     "metadata": {},
     "output_type": "display_data"
    }
   ],
   "source": [
    "def exp_func(x, a, b): \n",
    "    return a*(1-np.exp(-b*x))\n",
    "\n",
    "x = np.linspace(0, 30, num=50)\n",
    "y = 68*(1-np.exp(-0.07*x)) \n",
    "plt.scatter(x, y)\n",
    "params, params_covariance = optimize.curve_fit(exp_func, x, y, p0=[60, 1])\n",
    "plt.plot(x, exp_func(x, params[0], params[1]))"
   ]
  },
  {
   "cell_type": "code",
   "execution_count": 17,
   "metadata": {
    "scrolled": true
   },
   "outputs": [
    {
     "name": "stdout",
     "output_type": "stream",
     "text": [
      "[ 196.18458309    1.00454919]\n"
     ]
    },
    {
     "data": {
      "image/png": "[encoded data removed]",
      "text/plain": [
       "<Figure size 432x288 with 1 Axes>"
      ]
     },
     "metadata": {},
     "output_type": "display_data"
    }
   ],
   "source": [
    "area = get_area(mask)\n",
    "background = intensity_arr[5]\n",
    "destruction_arr = [x - background for x in intensity_arr[6:]]\n",
    "x = [x for x in range(len(destruction_arr))]\n",
    "x = np.array([x / time[x] for x in x])\n",
    "y = np.array([x/area for x in destruction_arr])\n",
    "time_x = np.linspace(0, x[x.size-1], num=50)\n",
    "\n",
    "\n",
    "def intensity_func(x, a, b): \n",
    "    return a*(1-np.exp(-(b*x)))\n",
    "\n",
    "params, params_covariance = optimize.curve_fit(intensity_func, x, y, p0=[50, 1])\n",
    "print(params)\n",
    "\n",
    "plt.scatter(x, y)\n",
    "plt.ylabel(\"Intensity\")\n",
    "plt.xlabel(\"Time\")\n",
    "plt.plot(time_x, intensity_func(time_x, params[0], params[1]), label='Fitted function')\n",
    "plt.show()"
   ]
  },
  {
   "cell_type": "markdown",
   "metadata": {},
   "source": [
    "Creates a plot over the intensities with the frame numbers as the x axis and gives a regression line. "
   ]
  },
  {
   "cell_type": "code",
   "execution_count": null,
   "metadata": {},
   "outputs": [],
   "source": []
  },
  {
   "cell_type": "code",
   "execution_count": null,
   "metadata": {},
   "outputs": [],
   "source": []
  }
 ],
 "metadata": {
  "kernelspec": {
   "display_name": "Python 3",
   "language": "python",
   "name": "python3"
  },
  "language_info": {
   "codemirror_mode": {
    "name": "ipython",
    "version": 3
   },
   "file_extension": ".py",
   "mimetype": "text/x-python",
   "name": "python",
   "nbconvert_exporter": "python",
   "pygments_lexer": "ipython3",
   "version": "3.6.4"
  }
 },
 "nbformat": 4,
 "nbformat_minor": 2
}
